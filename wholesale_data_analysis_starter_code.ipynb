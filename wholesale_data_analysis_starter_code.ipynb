{
 "cells": [
  {
   "cell_type": "markdown",
   "id": "dc0318d6",
   "metadata": {},
   "source": [
    "## Part 1: Explore the Data\n",
    "\n",
    "Import the data and use Pandas to learn more about the dataset."
   ]
  },
  {
   "cell_type": "code",
   "execution_count": 1,
   "id": "e076f57f",
   "metadata": {},
   "outputs": [
    {
     "data": {
      "text/html": [
       "<div>\n",
       "<style scoped>\n",
       "    .dataframe tbody tr th:only-of-type {\n",
       "        vertical-align: middle;\n",
       "    }\n",
       "\n",
       "    .dataframe tbody tr th {\n",
       "        vertical-align: top;\n",
       "    }\n",
       "\n",
       "    .dataframe thead th {\n",
       "        text-align: right;\n",
       "    }\n",
       "</style>\n",
       "<table border=\"1\" class=\"dataframe\">\n",
       "  <thead>\n",
       "    <tr style=\"text-align: right;\">\n",
       "      <th></th>\n",
       "      <th>first</th>\n",
       "      <th>last</th>\n",
       "      <th>job</th>\n",
       "      <th>phone</th>\n",
       "      <th>email</th>\n",
       "      <th>client_id</th>\n",
       "      <th>order_id</th>\n",
       "      <th>order_date</th>\n",
       "      <th>order_week</th>\n",
       "      <th>order_year</th>\n",
       "      <th>item_id</th>\n",
       "      <th>category</th>\n",
       "      <th>subcategory</th>\n",
       "      <th>unit_price</th>\n",
       "      <th>unit_cost</th>\n",
       "      <th>unit_weight</th>\n",
       "      <th>qty</th>\n",
       "      <th>line_number</th>\n",
       "    </tr>\n",
       "  </thead>\n",
       "  <tbody>\n",
       "    <tr>\n",
       "      <th>0</th>\n",
       "      <td>Donald</td>\n",
       "      <td>Harding</td>\n",
       "      <td>Immunologist</td>\n",
       "      <td>793-904-7725x39308</td>\n",
       "      <td>harding.donald.7185@sullivan.com</td>\n",
       "      <td>58515</td>\n",
       "      <td>8953482</td>\n",
       "      <td>2023-04-28</td>\n",
       "      <td>17</td>\n",
       "      <td>2023</td>\n",
       "      <td>EUD29711-63-6U</td>\n",
       "      <td>decor</td>\n",
       "      <td>wall art</td>\n",
       "      <td>1096.80</td>\n",
       "      <td>762.71</td>\n",
       "      <td>7.50</td>\n",
       "      <td>105</td>\n",
       "      <td>1</td>\n",
       "    </tr>\n",
       "    <tr>\n",
       "      <th>1</th>\n",
       "      <td>Tiffany</td>\n",
       "      <td>Myers</td>\n",
       "      <td>Music therapist</td>\n",
       "      <td>201.442.4543x942</td>\n",
       "      <td>myers.t.6537@ferguson-johnson.net</td>\n",
       "      <td>37609</td>\n",
       "      <td>8069089</td>\n",
       "      <td>2023-05-19</td>\n",
       "      <td>20</td>\n",
       "      <td>2023</td>\n",
       "      <td>XDA18116-89-4A</td>\n",
       "      <td>consumables</td>\n",
       "      <td>pens</td>\n",
       "      <td>24.95</td>\n",
       "      <td>15.09</td>\n",
       "      <td>1.49</td>\n",
       "      <td>21</td>\n",
       "      <td>0</td>\n",
       "    </tr>\n",
       "    <tr>\n",
       "      <th>2</th>\n",
       "      <td>Shannon</td>\n",
       "      <td>Watson</td>\n",
       "      <td>Immunologist</td>\n",
       "      <td>687.737.9424x8503</td>\n",
       "      <td>swatson8146@payne.net</td>\n",
       "      <td>57113</td>\n",
       "      <td>1902144</td>\n",
       "      <td>2023-01-29</td>\n",
       "      <td>4</td>\n",
       "      <td>2023</td>\n",
       "      <td>ABE59463-05-7E</td>\n",
       "      <td>software</td>\n",
       "      <td>project management</td>\n",
       "      <td>13.52</td>\n",
       "      <td>7.86</td>\n",
       "      <td>1.68</td>\n",
       "      <td>39</td>\n",
       "      <td>6</td>\n",
       "    </tr>\n",
       "    <tr>\n",
       "      <th>3</th>\n",
       "      <td>Nathan</td>\n",
       "      <td>Baker</td>\n",
       "      <td>Accounting technician</td>\n",
       "      <td>827-788-8123x012</td>\n",
       "      <td>bakernathan@benson.com</td>\n",
       "      <td>46554</td>\n",
       "      <td>9031802</td>\n",
       "      <td>2023-04-25</td>\n",
       "      <td>17</td>\n",
       "      <td>2023</td>\n",
       "      <td>ZMM00836-65-0C</td>\n",
       "      <td>consumables</td>\n",
       "      <td>pens</td>\n",
       "      <td>36.42</td>\n",
       "      <td>24.85</td>\n",
       "      <td>1.23</td>\n",
       "      <td>29</td>\n",
       "      <td>3</td>\n",
       "    </tr>\n",
       "    <tr>\n",
       "      <th>4</th>\n",
       "      <td>Christina</td>\n",
       "      <td>Schwartz</td>\n",
       "      <td>Chiropractor</td>\n",
       "      <td>265-829-3643</td>\n",
       "      <td>christinaschwartz9252@mcconnell.com</td>\n",
       "      <td>92089</td>\n",
       "      <td>1322274</td>\n",
       "      <td>2023-05-28</td>\n",
       "      <td>21</td>\n",
       "      <td>2023</td>\n",
       "      <td>BZX55559-12-3X</td>\n",
       "      <td>consumables</td>\n",
       "      <td>misc</td>\n",
       "      <td>195.10</td>\n",
       "      <td>108.17</td>\n",
       "      <td>46.43</td>\n",
       "      <td>20</td>\n",
       "      <td>1</td>\n",
       "    </tr>\n",
       "  </tbody>\n",
       "</table>\n",
       "</div>"
      ],
      "text/plain": [
       "       first      last                    job               phone  \\\n",
       "0     Donald   Harding           Immunologist  793-904-7725x39308   \n",
       "1    Tiffany     Myers        Music therapist    201.442.4543x942   \n",
       "2    Shannon    Watson           Immunologist   687.737.9424x8503   \n",
       "3     Nathan     Baker  Accounting technician    827-788-8123x012   \n",
       "4  Christina  Schwartz           Chiropractor        265-829-3643   \n",
       "\n",
       "                                 email  client_id  order_id  order_date  \\\n",
       "0     harding.donald.7185@sullivan.com      58515   8953482  2023-04-28   \n",
       "1    myers.t.6537@ferguson-johnson.net      37609   8069089  2023-05-19   \n",
       "2                swatson8146@payne.net      57113   1902144  2023-01-29   \n",
       "3               bakernathan@benson.com      46554   9031802  2023-04-25   \n",
       "4  christinaschwartz9252@mcconnell.com      92089   1322274  2023-05-28   \n",
       "\n",
       "   order_week  order_year         item_id     category         subcategory  \\\n",
       "0          17        2023  EUD29711-63-6U        decor            wall art   \n",
       "1          20        2023  XDA18116-89-4A  consumables                pens   \n",
       "2           4        2023  ABE59463-05-7E     software  project management   \n",
       "3          17        2023  ZMM00836-65-0C  consumables                pens   \n",
       "4          21        2023  BZX55559-12-3X  consumables                misc   \n",
       "\n",
       "   unit_price  unit_cost  unit_weight  qty  line_number  \n",
       "0     1096.80     762.71         7.50  105            1  \n",
       "1       24.95      15.09         1.49   21            0  \n",
       "2       13.52       7.86         1.68   39            6  \n",
       "3       36.42      24.85         1.23   29            3  \n",
       "4      195.10     108.17        46.43   20            1  "
      ]
     },
     "execution_count": 1,
     "metadata": {},
     "output_type": "execute_result"
    }
   ],
   "source": [
    "import pandas as pd\n",
    "\n",
    "df = pd.read_csv('Resources/client_dataset.csv')\n",
    "df.head()"
   ]
  },
  {
   "cell_type": "code",
   "execution_count": 2,
   "id": "71b9bbd2",
   "metadata": {},
   "outputs": [
    {
     "data": {
      "text/plain": [
       "Index(['first', 'last', 'job', 'phone', 'email', 'client_id', 'order_id',\n",
       "       'order_date', 'order_week', 'order_year', 'item_id', 'category',\n",
       "       'subcategory', 'unit_price', 'unit_cost', 'unit_weight', 'qty',\n",
       "       'line_number'],\n",
       "      dtype='object')"
      ]
     },
     "execution_count": 2,
     "metadata": {},
     "output_type": "execute_result"
    }
   ],
   "source": [
    "# View the column names in the data\n",
    "df.columns\n"
   ]
  },
  {
   "cell_type": "code",
   "execution_count": 3,
   "id": "bc0f4172",
   "metadata": {},
   "outputs": [
    {
     "data": {
      "text/html": [
       "<div>\n",
       "<style scoped>\n",
       "    .dataframe tbody tr th:only-of-type {\n",
       "        vertical-align: middle;\n",
       "    }\n",
       "\n",
       "    .dataframe tbody tr th {\n",
       "        vertical-align: top;\n",
       "    }\n",
       "\n",
       "    .dataframe thead th {\n",
       "        text-align: right;\n",
       "    }\n",
       "</style>\n",
       "<table border=\"1\" class=\"dataframe\">\n",
       "  <thead>\n",
       "    <tr style=\"text-align: right;\">\n",
       "      <th></th>\n",
       "      <th>client_id</th>\n",
       "      <th>order_id</th>\n",
       "      <th>order_week</th>\n",
       "      <th>order_year</th>\n",
       "      <th>unit_price</th>\n",
       "      <th>unit_cost</th>\n",
       "      <th>unit_weight</th>\n",
       "      <th>qty</th>\n",
       "      <th>line_number</th>\n",
       "    </tr>\n",
       "  </thead>\n",
       "  <tbody>\n",
       "    <tr>\n",
       "      <th>count</th>\n",
       "      <td>54639.000000</td>\n",
       "      <td>5.463900e+04</td>\n",
       "      <td>54639.000000</td>\n",
       "      <td>54639.000000</td>\n",
       "      <td>54639.000000</td>\n",
       "      <td>54639.000000</td>\n",
       "      <td>54639.000000</td>\n",
       "      <td>5.463900e+04</td>\n",
       "      <td>54639.000000</td>\n",
       "    </tr>\n",
       "    <tr>\n",
       "      <th>mean</th>\n",
       "      <td>54837.869416</td>\n",
       "      <td>5.470190e+06</td>\n",
       "      <td>11.359139</td>\n",
       "      <td>2022.993064</td>\n",
       "      <td>136.267207</td>\n",
       "      <td>99.446073</td>\n",
       "      <td>5.004116</td>\n",
       "      <td>5.702646e+02</td>\n",
       "      <td>2.979667</td>\n",
       "    </tr>\n",
       "    <tr>\n",
       "      <th>std</th>\n",
       "      <td>25487.438231</td>\n",
       "      <td>2.599807e+06</td>\n",
       "      <td>7.023499</td>\n",
       "      <td>0.082997</td>\n",
       "      <td>183.873135</td>\n",
       "      <td>133.164267</td>\n",
       "      <td>5.326599</td>\n",
       "      <td>1.879552e+04</td>\n",
       "      <td>2.436320</td>\n",
       "    </tr>\n",
       "    <tr>\n",
       "      <th>min</th>\n",
       "      <td>10033.000000</td>\n",
       "      <td>1.000886e+06</td>\n",
       "      <td>1.000000</td>\n",
       "      <td>2022.000000</td>\n",
       "      <td>0.010000</td>\n",
       "      <td>0.010000</td>\n",
       "      <td>0.000000</td>\n",
       "      <td>0.000000e+00</td>\n",
       "      <td>0.000000</td>\n",
       "    </tr>\n",
       "    <tr>\n",
       "      <th>25%</th>\n",
       "      <td>33593.000000</td>\n",
       "      <td>3.196372e+06</td>\n",
       "      <td>6.000000</td>\n",
       "      <td>2023.000000</td>\n",
       "      <td>20.800000</td>\n",
       "      <td>14.840000</td>\n",
       "      <td>1.450000</td>\n",
       "      <td>3.200000e+01</td>\n",
       "      <td>1.000000</td>\n",
       "    </tr>\n",
       "    <tr>\n",
       "      <th>50%</th>\n",
       "      <td>53305.000000</td>\n",
       "      <td>5.496966e+06</td>\n",
       "      <td>11.000000</td>\n",
       "      <td>2023.000000</td>\n",
       "      <td>68.310000</td>\n",
       "      <td>49.890000</td>\n",
       "      <td>3.240000</td>\n",
       "      <td>6.800000e+01</td>\n",
       "      <td>3.000000</td>\n",
       "    </tr>\n",
       "    <tr>\n",
       "      <th>75%</th>\n",
       "      <td>78498.000000</td>\n",
       "      <td>7.733869e+06</td>\n",
       "      <td>17.000000</td>\n",
       "      <td>2023.000000</td>\n",
       "      <td>173.160000</td>\n",
       "      <td>125.570000</td>\n",
       "      <td>6.890000</td>\n",
       "      <td>1.700000e+02</td>\n",
       "      <td>5.000000</td>\n",
       "    </tr>\n",
       "    <tr>\n",
       "      <th>max</th>\n",
       "      <td>99984.000000</td>\n",
       "      <td>9.998480e+06</td>\n",
       "      <td>52.000000</td>\n",
       "      <td>2023.000000</td>\n",
       "      <td>1396.230000</td>\n",
       "      <td>846.270000</td>\n",
       "      <td>46.430000</td>\n",
       "      <td>3.958244e+06</td>\n",
       "      <td>9.000000</td>\n",
       "    </tr>\n",
       "  </tbody>\n",
       "</table>\n",
       "</div>"
      ],
      "text/plain": [
       "          client_id      order_id    order_week    order_year    unit_price  \\\n",
       "count  54639.000000  5.463900e+04  54639.000000  54639.000000  54639.000000   \n",
       "mean   54837.869416  5.470190e+06     11.359139   2022.993064    136.267207   \n",
       "std    25487.438231  2.599807e+06      7.023499      0.082997    183.873135   \n",
       "min    10033.000000  1.000886e+06      1.000000   2022.000000      0.010000   \n",
       "25%    33593.000000  3.196372e+06      6.000000   2023.000000     20.800000   \n",
       "50%    53305.000000  5.496966e+06     11.000000   2023.000000     68.310000   \n",
       "75%    78498.000000  7.733869e+06     17.000000   2023.000000    173.160000   \n",
       "max    99984.000000  9.998480e+06     52.000000   2023.000000   1396.230000   \n",
       "\n",
       "          unit_cost   unit_weight           qty   line_number  \n",
       "count  54639.000000  54639.000000  5.463900e+04  54639.000000  \n",
       "mean      99.446073      5.004116  5.702646e+02      2.979667  \n",
       "std      133.164267      5.326599  1.879552e+04      2.436320  \n",
       "min        0.010000      0.000000  0.000000e+00      0.000000  \n",
       "25%       14.840000      1.450000  3.200000e+01      1.000000  \n",
       "50%       49.890000      3.240000  6.800000e+01      3.000000  \n",
       "75%      125.570000      6.890000  1.700000e+02      5.000000  \n",
       "max      846.270000     46.430000  3.958244e+06      9.000000  "
      ]
     },
     "execution_count": 3,
     "metadata": {},
     "output_type": "execute_result"
    }
   ],
   "source": [
    "# Use the describe function to gather some basic statistics\n",
    "df.describe()"
   ]
  },
  {
   "cell_type": "code",
   "execution_count": 6,
   "id": "b24b53cc",
   "metadata": {},
   "outputs": [
    {
     "name": "stdout",
     "output_type": "stream",
     "text": [
      "The maximum quantity ordered is: 3958244\n",
      "The average quantity ordered is: 570.2646095279928\n",
      "The minimum quantity ordered is: 0 \n",
      "\n",
      "The maximum unit price ordered is: 1396.23\n",
      "The average unit price ordered is: 136.26720694009774\n",
      "The minimum unit price ordered is: 0.01 \n",
      "\n",
      "The maximum unit cost ordered is: 846.27\n",
      "The average unit price ordered is: 99.4460727685353\n",
      "The minimum unit cost ordered is: 0.01 \n",
      "\n",
      "The maximum unit weight ordered is: 46.43\n",
      "The average unit price ordered is: 5.0041162905616865\n",
      "The minimum unit weight ordered is: 0.0 \n",
      "\n",
      "Below is a table of the number of different jobs present: \n",
      "job\n",
      "Osteopath                             631\n",
      "Toxicologist                          546\n",
      "Architectural technologist            430\n",
      "Librarian, academic                   389\n",
      "Teacher, special educational needs    388\n",
      "                                     ... \n",
      "Copywriter, advertising                12\n",
      "Midwife                                10\n",
      "Insurance risk surveyor                 9\n",
      "Runner, broadcasting/film/video         9\n",
      "Advertising account planner             5\n",
      "Name: count, Length: 498, dtype: int64\n",
      "Below is a table of the different catecories present: \n",
      "category\n",
      "consumables    23538\n",
      "furniture      11915\n",
      "software        8400\n",
      "decor           7954\n",
      "electronics     2832\n",
      "Name: count, dtype: int64\n",
      "Below is a table of the different subcatecories present: \n",
      "subcategory\n",
      "bathroom supplies     6424\n",
      "paper products        5874\n",
      "kitchen supplies      5746\n",
      "tables                4540\n",
      "misc                  4286\n",
      "stands                4201\n",
      "accounting            3756\n",
      "project management    3522\n",
      "plants                3466\n",
      "wall art              3093\n",
      "seating               2664\n",
      "pens                  2603\n",
      "logistics             1122\n",
      "telecom                978\n",
      "audio visual           732\n",
      "cabling                655\n",
      "desks                  510\n",
      "computers              467\n",
      "Name: count, dtype: int64\n"
     ]
    }
   ],
   "source": [
    "# Use this space to do any additional research\n",
    "# and familiarize yourself with the data.\n",
    "print(f\"The maximum quantity ordered is: {max(df['qty'])}\")\n",
    "print(f\"The average quantity ordered is: {df['qty'].mean()}\")\n",
    "print(f\"The minimum quantity ordered is: {min(df['qty'])} \\n\")\n",
    "\n",
    "print(f\"The maximum unit price ordered is: {max(df['unit_price'])}\")\n",
    "print(f\"The average unit price ordered is: {df['unit_price'].mean()}\")\n",
    "print(f\"The minimum unit price ordered is: {min(df['unit_price'])} \\n\")\n",
    "\n",
    "print(f\"The maximum unit cost ordered is: {max(df['unit_cost'])}\")\n",
    "print(f\"The average unit price ordered is: {df['unit_cost'].mean()}\")\n",
    "print(f\"The minimum unit cost ordered is: {min(df['unit_cost'])} \\n\")\n",
    "\n",
    "print(f\"The maximum unit weight ordered is: {max(df['unit_weight'])}\")\n",
    "print(f\"The average unit price ordered is: {df['unit_weight'].mean()}\")\n",
    "print(f\"The minimum unit weight ordered is: {min(df['unit_weight'])} \\n\")\n",
    "\n",
    "print(\"Below is a table of the number of different jobs present: \")\n",
    "print(df['job'].value_counts())\n",
    "\n",
    "print(\"Below is a table of the different catecories present: \")\n",
    "print(df[\"category\"].value_counts())\n",
    "\n",
    "print(\"Below is a table of the different subcatecories present: \")\n",
    "print(df[\"subcategory\"].value_counts())"
   ]
  },
  {
   "cell_type": "code",
   "execution_count": 8,
   "id": "551cb358",
   "metadata": {},
   "outputs": [
    {
     "name": "stdout",
     "output_type": "stream",
     "text": [
      "The three item categories with the most entries are: \n",
      "category\n",
      "consumables    23538\n",
      "furniture      11915\n",
      "software        8400\n",
      "Name: count, dtype: int64\n"
     ]
    }
   ],
   "source": [
    "# What three item categories had the most entries?\n",
    "print(\"The three item categories with the most entries are: \")\n",
    "print(df[\"category\"].value_counts()[:3])"
   ]
  },
  {
   "cell_type": "code",
   "execution_count": 17,
   "id": "5f54e2cf",
   "metadata": {},
   "outputs": [
    {
     "name": "stdout",
     "output_type": "stream",
     "text": [
      "For the category 'consumables' which has the most entries, the subcategory with the most entries is: bathroom supplies\n"
     ]
    }
   ],
   "source": [
    "# For the category with the most entries, which subcategory had the most entries?\n",
    "\n",
    "highest_cat = df['category'].value_counts().index[0]\n",
    "\n",
    "highest_cat_dataframe = df.loc[df['category'] == highest_cat, :]\n",
    "highest_subcat = highest_cat_dataframe['subcategory'].value_counts().index[0]\n",
    "print(f\"For the category '{highest_cat}' which has the most entries, the subcategory with the most entries is: {highest_subcat}\")\n"
   ]
  },
  {
   "cell_type": "code",
   "execution_count": 19,
   "id": "2db94379",
   "metadata": {},
   "outputs": [
    {
     "name": "stdout",
     "output_type": "stream",
     "text": [
      "The five clients with the most entries in the data are: \n",
      "client_id\n",
      "33615    220\n",
      "66037    211\n",
      "46820    209\n",
      "38378    207\n",
      "24741    207\n",
      "Name: count, dtype: int64\n"
     ]
    }
   ],
   "source": [
    "# Which five clients had the most entries in the data?\n",
    "print(\"The five clients with the most entries in the data are: \")\n",
    "print(df['client_id'].value_counts()[:5])"
   ]
  },
  {
   "cell_type": "code",
   "execution_count": 21,
   "id": "a6635601",
   "metadata": {},
   "outputs": [
    {
     "data": {
      "text/plain": [
       "[33615, 66037, 46820, 38378, 24741]"
      ]
     },
     "execution_count": 21,
     "metadata": {},
     "output_type": "execute_result"
    }
   ],
   "source": [
    "# Store the client ids of those top 5 clients in a list.\n",
    "top_five = list(df['client_id'].value_counts().index[:5])\n",
    "top_five"
   ]
  },
  {
   "cell_type": "code",
   "execution_count": 28,
   "id": "c88b8a3e",
   "metadata": {},
   "outputs": [
    {
     "name": "stdout",
     "output_type": "stream",
     "text": [
      "The total units ordered by the client with the most entries is: 64313\n"
     ]
    }
   ],
   "source": [
    "# How many total units (the qty column) did the client with the most entries order order?\n",
    "# Homework assumption, the total units means every last order made by said client, i.e. a summation of all the client's orders\n",
    "max_qty = df.loc[(df['client_id'] == top_five[0]), \"qty\"].sum()\n",
    "print(f\"The total units ordered by the client with the most entries is: {max_qty}\")\n"
   ]
  },
  {
   "cell_type": "markdown",
   "id": "257fcd7d",
   "metadata": {},
   "source": [
    "## Part 2: Transform the Data\n",
    "Do we know that this client spent the more money than client 66037? If not, how would we find out? Transform the data using the steps below to prepare it for analysis."
   ]
  },
  {
   "cell_type": "code",
   "execution_count": 31,
   "id": "0c25c4a8",
   "metadata": {},
   "outputs": [
    {
     "data": {
      "text/plain": [
       "Index(['first', 'last', 'job', 'phone', 'email', 'client_id', 'order_id',\n",
       "       'order_date', 'order_week', 'order_year', 'item_id', 'category',\n",
       "       'subcategory', 'unit_price', 'unit_cost', 'unit_weight', 'qty',\n",
       "       'line_number', 'subtotal'],\n",
       "      dtype='object')"
      ]
     },
     "execution_count": 31,
     "metadata": {},
     "output_type": "execute_result"
    }
   ],
   "source": [
    "# Create a column that calculates the subtotal for each line using the unit_price and the qty\n",
    "# For homework the assumption is that the column is meant to be added to the dataframe\n",
    "df['subtotal'] = df[\"unit_price\"] * df[\"qty\"]\n",
    "# Show that the dataframe now has the same columns as before along with the new column\n",
    "df.columns\n"
   ]
  },
  {
   "cell_type": "code",
   "execution_count": 35,
   "id": "ac9dafc8",
   "metadata": {},
   "outputs": [
    {
     "name": "stdout",
     "output_type": "stream",
     "text": [
      "   qty  unit_weight  shipping_price\n",
      "0  105         7.50         5512.50\n",
      "1   21         1.49          312.90\n",
      "2   39         1.68          458.64\n"
     ]
    }
   ],
   "source": [
    "# Create a column for shipping price.\n",
    "# Assume a shipping price of $7 per pound for orders over 50 pounds and $10 per pound for items 50 pounds or under.\n",
    "#First find the total weight\n",
    "total_weight = df['qty'] * df['unit_weight']\n",
    "#Get a boolean of where the total weight is above 50 then multiply by the cost of $7\n",
    "total_weight_above = (total_weight > 50) * 7\n",
    "#Get a boolean of where the total weight is 50 or below then multiply by the cost of $10\n",
    "total_weight_below = (total_weight <= 50) * 10\n",
    "#Use the resultant shipping cost areas to generate the total cost (as the areas where the weight is incorrect, the value will be zero)\n",
    "total_weight_above = total_weight * total_weight_above\n",
    "total_weight_below = total_weight * total_weight_below\n",
    "#Then add the two boolean based vectors to determine the shipping price\n",
    "df['shipping_price'] = total_weight_above + total_weight_below\n",
    "#Print the first three of the quantity, unit_weight, and shipping price as a sanity check\n",
    "print(df[['qty', 'unit_weight', 'shipping_price']][:3])\n"
   ]
  },
  {
   "cell_type": "code",
   "execution_count": 37,
   "id": "77f42c67",
   "metadata": {},
   "outputs": [
    {
     "name": "stdout",
     "output_type": "stream",
     "text": [
      "    subtotal  shipping_price    total_price\n",
      "0  115164.00         5512.50  131839.076250\n",
      "1     523.95          312.90     914.258625\n",
      "2     527.28          458.64    1077.117600\n"
     ]
    }
   ],
   "source": [
    "# Create a column for the total price using the subtotal and the shipping price along with a sales tax of 9.25%\n",
    "#Assumption here is that sales tax is a constant so it is put in all caps\n",
    "SALES_TAX = 0.0925\n",
    "df['total_price'] = (df['subtotal'] + df['shipping_price']) * SALES_TAX + (df['subtotal'] + df['shipping_price'])\n",
    "#Print the first three of the subtotal, shipping price, and total price as a sanity check\n",
    "print(df[['subtotal','shipping_price' ,'total_price']][:3])"
   ]
  },
  {
   "cell_type": "code",
   "execution_count": 38,
   "id": "c82ad275",
   "metadata": {},
   "outputs": [
    {
     "name": "stdout",
     "output_type": "stream",
     "text": [
      "   qty  unit_cost  shipping_price  line_cost\n",
      "0  105     762.71         5512.50   85597.05\n",
      "1   21      15.09          312.90     629.79\n",
      "2   39       7.86          458.64     765.18\n"
     ]
    }
   ],
   "source": [
    "# Create a column for the cost of each line using unit cost, qty, and\n",
    "# shipping price (assume the shipping cost is exactly what is charged to the client).\n",
    "#Assumption here is that the sales tax is not part of the cost as it is paid by the client.\n",
    "df['line_cost'] = df['unit_cost'] * df['qty'] + df['shipping_price']\n",
    "#Sanity check\n",
    "print(df[['qty', 'unit_cost', 'shipping_price', 'line_cost']][:3])\n"
   ]
  },
  {
   "cell_type": "code",
   "execution_count": 39,
   "id": "e2389018",
   "metadata": {},
   "outputs": [
    {
     "name": "stdout",
     "output_type": "stream",
     "text": [
      "0    46242.026250\n",
      "1      284.468625\n",
      "2      311.937600\n",
      "Name: profit, dtype: float64\n"
     ]
    }
   ],
   "source": [
    "# Create a column for the profit of each line using line cost and line price\n",
    "df['profit'] = df['total_price'] - df['line_cost']\n",
    "print(df['profit'][:3])\n"
   ]
  },
  {
   "cell_type": "markdown",
   "id": "ef6f62b1",
   "metadata": {},
   "source": [
    "## Part 3: Confirm your work\n",
    "You have email receipts showing that the total prices for 3 orders. Confirm that your calculations match the receipts. Remember, each order has multiple lines.\n",
    "\n",
    "Order ID 2742071 had a total price of \\$152,811.89\n",
    "\n",
    "Order ID 2173913 had a total price of \\$162,388.71\n",
    "\n",
    "Order ID 6128929 had a total price of \\$923,441.25\n"
   ]
  },
  {
   "cell_type": "code",
   "execution_count": 69,
   "id": "c0e5d68e",
   "metadata": {},
   "outputs": [
    {
     "name": "stdout",
     "output_type": "stream",
     "text": [
      "The order ID 2742071 has a total price of: 152811.9\n",
      "The order ID 2173913 has a total price of: 162388.72\n",
      "The order ID 6128929 has a total price of: 923441.24\n"
     ]
    }
   ],
   "source": [
    "# Check your work using the totals above\n",
    "order_check_first = df.loc[df['order_id'] == 2742071]\n",
    "print(f\"The order ID 2742071 has a total price of: {order_check_first['total_price'].sum().round(2)}\")\n",
    "\n",
    "\n",
    "order_check_second = df.loc[df['order_id'] == 2173913]\n",
    "print(f\"The order ID 2173913 has a total price of: {round(order_check_second['total_price'].sum(), 2)}\")\n",
    "\n",
    "order_check_third = df.loc[df['order_id'] == 6128929]\n",
    "print(f\"The order ID 6128929 has a total price of: {round(order_check_third['total_price'].sum(), 2)}\")"
   ]
  },
  {
   "cell_type": "markdown",
   "id": "b94d58ab",
   "metadata": {},
   "source": [
    "## Part 4: Summarize and Analyze\n",
    "Use the new columns with confirmed values to find the following information."
   ]
  },
  {
   "cell_type": "code",
   "execution_count": 72,
   "id": "7c005f34",
   "metadata": {},
   "outputs": [
    {
     "name": "stdout",
     "output_type": "stream",
     "text": [
      "The top spender 33615 spent $8377308.57\n",
      "The top spender 66037 spent $10259514.8\n",
      "The top spender 46820 spent $9743794.32\n",
      "The top spender 38378 spent $12906550.88\n",
      "The top spender 24741 spent $82268891.98\n"
     ]
    }
   ],
   "source": [
    "# How much did each of the top 5 clients by quantity spend? Check your work from Part 1 for client ids.\n",
    "#Assumptions: that the spending includes sales tax, shipping, etc, i.e. that the total price is the client's spending\n",
    "for big_cat in top_five:\n",
    "    big_monies = df.loc[df['client_id'] == big_cat, 'total_price'].sum()\n",
    "    print(f\"The top spender {big_cat} spent ${round(big_monies, 2)}\")\n"
   ]
  },
  {
   "cell_type": "code",
   "execution_count": 136,
   "id": "81b6e4d2",
   "metadata": {},
   "outputs": [
    {
     "data": {
      "text/html": [
       "<div>\n",
       "<style scoped>\n",
       "    .dataframe tbody tr th:only-of-type {\n",
       "        vertical-align: middle;\n",
       "    }\n",
       "\n",
       "    .dataframe tbody tr th {\n",
       "        vertical-align: top;\n",
       "    }\n",
       "\n",
       "    .dataframe thead th {\n",
       "        text-align: right;\n",
       "    }\n",
       "</style>\n",
       "<table border=\"1\" class=\"dataframe\">\n",
       "  <thead>\n",
       "    <tr style=\"text-align: right;\">\n",
       "      <th></th>\n",
       "      <th>qty</th>\n",
       "      <th>shipping_price</th>\n",
       "      <th>total_price</th>\n",
       "      <th>profit</th>\n",
       "    </tr>\n",
       "    <tr>\n",
       "      <th>client_id</th>\n",
       "      <th></th>\n",
       "      <th></th>\n",
       "      <th></th>\n",
       "      <th></th>\n",
       "    </tr>\n",
       "  </thead>\n",
       "  <tbody>\n",
       "    <tr>\n",
       "      <th>24741</th>\n",
       "      <td>239862</td>\n",
       "      <td>5126448.37</td>\n",
       "      <td>8.226889e+07</td>\n",
       "      <td>3.657999e+07</td>\n",
       "    </tr>\n",
       "    <tr>\n",
       "      <th>33615</th>\n",
       "      <td>64313</td>\n",
       "      <td>1828984.89</td>\n",
       "      <td>8.377309e+06</td>\n",
       "      <td>2.201995e+06</td>\n",
       "    </tr>\n",
       "    <tr>\n",
       "      <th>38378</th>\n",
       "      <td>73667</td>\n",
       "      <td>3429455.40</td>\n",
       "      <td>1.290655e+07</td>\n",
       "      <td>3.271830e+06</td>\n",
       "    </tr>\n",
       "    <tr>\n",
       "      <th>46820</th>\n",
       "      <td>75768</td>\n",
       "      <td>1601448.84</td>\n",
       "      <td>9.743794e+06</td>\n",
       "      <td>2.736603e+06</td>\n",
       "    </tr>\n",
       "    <tr>\n",
       "      <th>66037</th>\n",
       "      <td>43018</td>\n",
       "      <td>1395151.85</td>\n",
       "      <td>1.025951e+07</td>\n",
       "      <td>3.255032e+06</td>\n",
       "    </tr>\n",
       "  </tbody>\n",
       "</table>\n",
       "</div>"
      ],
      "text/plain": [
       "              qty  shipping_price   total_price        profit\n",
       "client_id                                                    \n",
       "24741      239862      5126448.37  8.226889e+07  3.657999e+07\n",
       "33615       64313      1828984.89  8.377309e+06  2.201995e+06\n",
       "38378       73667      3429455.40  1.290655e+07  3.271830e+06\n",
       "46820       75768      1601448.84  9.743794e+06  2.736603e+06\n",
       "66037       43018      1395151.85  1.025951e+07  3.255032e+06"
      ]
     },
     "execution_count": 136,
     "metadata": {},
     "output_type": "execute_result"
    }
   ],
   "source": [
    "# Create a summary DataFrame showing the totals for the for the top 5 clients with the following information:\n",
    "# total units purchased, total shipping price, total revenue, and total profit. \n",
    "# Got homework help from William Pitera who reminded me about the groupby function! \n",
    "top_five_df = df[df['client_id'].isin(top_five)].groupby('client_id').agg({\n",
    "    'qty':'sum',\n",
    "    'shipping_price':'sum',\n",
    "    'total_price':'sum',\n",
    "    'profit':'sum'\n",
    "})\n",
    "top_five_df"
   ]
  },
  {
   "cell_type": "code",
   "execution_count": 137,
   "id": "7be02867",
   "metadata": {},
   "outputs": [
    {
     "data": {
      "text/html": [
       "<div>\n",
       "<style scoped>\n",
       "    .dataframe tbody tr th:only-of-type {\n",
       "        vertical-align: middle;\n",
       "    }\n",
       "\n",
       "    .dataframe tbody tr th {\n",
       "        vertical-align: top;\n",
       "    }\n",
       "\n",
       "    .dataframe thead th {\n",
       "        text-align: right;\n",
       "    }\n",
       "</style>\n",
       "<table border=\"1\" class=\"dataframe\">\n",
       "  <thead>\n",
       "    <tr style=\"text-align: right;\">\n",
       "      <th></th>\n",
       "      <th>Quantity</th>\n",
       "      <th>Shipping Price in Millions</th>\n",
       "      <th>Total Revenue in Millions</th>\n",
       "      <th>Total Profit in Millions</th>\n",
       "    </tr>\n",
       "    <tr>\n",
       "      <th>client_id</th>\n",
       "      <th></th>\n",
       "      <th></th>\n",
       "      <th></th>\n",
       "      <th></th>\n",
       "    </tr>\n",
       "  </thead>\n",
       "  <tbody>\n",
       "    <tr>\n",
       "      <th>24741</th>\n",
       "      <td>239862</td>\n",
       "      <td>$5.12645 million</td>\n",
       "      <td>$82.26889 million</td>\n",
       "      <td>$36.57999 million</td>\n",
       "    </tr>\n",
       "    <tr>\n",
       "      <th>33615</th>\n",
       "      <td>64313</td>\n",
       "      <td>$1.82898 million</td>\n",
       "      <td>$8.37731 million</td>\n",
       "      <td>$2.20199 million</td>\n",
       "    </tr>\n",
       "    <tr>\n",
       "      <th>38378</th>\n",
       "      <td>73667</td>\n",
       "      <td>$3.42946 million</td>\n",
       "      <td>$12.90655 million</td>\n",
       "      <td>$3.27183 million</td>\n",
       "    </tr>\n",
       "    <tr>\n",
       "      <th>46820</th>\n",
       "      <td>75768</td>\n",
       "      <td>$1.60145 million</td>\n",
       "      <td>$9.74379 million</td>\n",
       "      <td>$2.7366 million</td>\n",
       "    </tr>\n",
       "    <tr>\n",
       "      <th>66037</th>\n",
       "      <td>43018</td>\n",
       "      <td>$1.39515 million</td>\n",
       "      <td>$10.25951 million</td>\n",
       "      <td>$3.25503 million</td>\n",
       "    </tr>\n",
       "  </tbody>\n",
       "</table>\n",
       "</div>"
      ],
      "text/plain": [
       "           Quantity Shipping Price in Millions Total Revenue in Millions  \\\n",
       "client_id                                                                  \n",
       "24741        239862           $5.12645 million         $82.26889 million   \n",
       "33615         64313           $1.82898 million          $8.37731 million   \n",
       "38378         73667           $3.42946 million         $12.90655 million   \n",
       "46820         75768           $1.60145 million          $9.74379 million   \n",
       "66037         43018           $1.39515 million         $10.25951 million   \n",
       "\n",
       "          Total Profit in Millions  \n",
       "client_id                           \n",
       "24741            $36.57999 million  \n",
       "33615             $2.20199 million  \n",
       "38378             $3.27183 million  \n",
       "46820              $2.7366 million  \n",
       "66037             $3.25503 million  "
      ]
     },
     "execution_count": 137,
     "metadata": {},
     "output_type": "execute_result"
    }
   ],
   "source": [
    "# Format the data and rename the columns to names suitable for presentation.\n",
    "top_five_df = top_five_df.rename(columns={\"profit\": \"Total Profit\", \"qty\": \"Quantity\", \"shipping_price\":\"Shipping Price\", \"total_price\":\"Total Revenue\"})\n",
    "# Define the money columns. \n",
    "money_cols = ['Total Profit','Shipping Price', 'Total Revenue']\n",
    "\n",
    "# Define a function that converts a dollar amount to millions.\n",
    "def to_million_format(x):\n",
    "    #Assumption here is that the number is supposed to be stated as for example \"1.56 million\"\n",
    "    #Will round to 5 for readability\n",
    "    return \"$\" + str(round(x / 1000000, 5)) + \" million\"\n",
    "\n",
    "# Apply the currency_format_millions function to only the money columns. \n",
    "for col in money_cols:\n",
    "    top_five_df[col] = top_five_df[col].apply(to_million_format)\n",
    "\n",
    "# Rename the columns to reflect the change in the money format. \n",
    "top_five_df = top_five_df.rename(columns={\"Total Price\": \"Total Price in Millions\", \"Shipping Price\":\"Shipping Price in Millions\", \"Total Revenue\": \"Total Revenue in Millions\", \"Total Profit\": \"Total Profit in Millions\"})\n",
    "top_five_df\n",
    "\n"
   ]
  },
  {
   "cell_type": "code",
   "execution_count": 138,
   "id": "8ead0986",
   "metadata": {},
   "outputs": [
    {
     "data": {
      "text/html": [
       "<div>\n",
       "<style scoped>\n",
       "    .dataframe tbody tr th:only-of-type {\n",
       "        vertical-align: middle;\n",
       "    }\n",
       "\n",
       "    .dataframe tbody tr th {\n",
       "        vertical-align: top;\n",
       "    }\n",
       "\n",
       "    .dataframe thead th {\n",
       "        text-align: right;\n",
       "    }\n",
       "</style>\n",
       "<table border=\"1\" class=\"dataframe\">\n",
       "  <thead>\n",
       "    <tr style=\"text-align: right;\">\n",
       "      <th></th>\n",
       "      <th>Quantity</th>\n",
       "      <th>Shipping Price in Millions</th>\n",
       "      <th>Total Revenue in Millions</th>\n",
       "      <th>Total Profit in Millions</th>\n",
       "    </tr>\n",
       "    <tr>\n",
       "      <th>client_id</th>\n",
       "      <th></th>\n",
       "      <th></th>\n",
       "      <th></th>\n",
       "      <th></th>\n",
       "    </tr>\n",
       "  </thead>\n",
       "  <tbody>\n",
       "    <tr>\n",
       "      <th>24741</th>\n",
       "      <td>239862</td>\n",
       "      <td>$5.12645 million</td>\n",
       "      <td>$82.26889 million</td>\n",
       "      <td>$36.57999 million</td>\n",
       "    </tr>\n",
       "    <tr>\n",
       "      <th>38378</th>\n",
       "      <td>73667</td>\n",
       "      <td>$3.42946 million</td>\n",
       "      <td>$12.90655 million</td>\n",
       "      <td>$3.27183 million</td>\n",
       "    </tr>\n",
       "    <tr>\n",
       "      <th>66037</th>\n",
       "      <td>43018</td>\n",
       "      <td>$1.39515 million</td>\n",
       "      <td>$10.25951 million</td>\n",
       "      <td>$3.25503 million</td>\n",
       "    </tr>\n",
       "    <tr>\n",
       "      <th>46820</th>\n",
       "      <td>75768</td>\n",
       "      <td>$1.60145 million</td>\n",
       "      <td>$9.74379 million</td>\n",
       "      <td>$2.7366 million</td>\n",
       "    </tr>\n",
       "    <tr>\n",
       "      <th>33615</th>\n",
       "      <td>64313</td>\n",
       "      <td>$1.82898 million</td>\n",
       "      <td>$8.37731 million</td>\n",
       "      <td>$2.20199 million</td>\n",
       "    </tr>\n",
       "  </tbody>\n",
       "</table>\n",
       "</div>"
      ],
      "text/plain": [
       "           Quantity Shipping Price in Millions Total Revenue in Millions  \\\n",
       "client_id                                                                  \n",
       "24741        239862           $5.12645 million         $82.26889 million   \n",
       "38378         73667           $3.42946 million         $12.90655 million   \n",
       "66037         43018           $1.39515 million         $10.25951 million   \n",
       "46820         75768           $1.60145 million          $9.74379 million   \n",
       "33615         64313           $1.82898 million          $8.37731 million   \n",
       "\n",
       "          Total Profit in Millions  \n",
       "client_id                           \n",
       "24741            $36.57999 million  \n",
       "38378             $3.27183 million  \n",
       "66037             $3.25503 million  \n",
       "46820              $2.7366 million  \n",
       "33615             $2.20199 million  "
      ]
     },
     "execution_count": 138,
     "metadata": {},
     "output_type": "execute_result"
    }
   ],
   "source": [
    "# Sort the updated data by \"Total Profit (millions)\" form highest to lowest and assign the sort to a new DatFrame.\n",
    "sorted_top_five = top_five_df.sort_values(\"Total Profit in Millions\", ascending=False)\n",
    "sorted_top_five"
   ]
  },
  {
   "cell_type": "code",
   "execution_count": 154,
   "id": "87e0e7f8-b60e-4e50-ab07-c36b6deed513",
   "metadata": {},
   "outputs": [
    {
     "name": "stdout",
     "output_type": "stream",
     "text": [
      "              qty  shipping_price   total_price        profit  profit_per_qty\n",
      "client_id                                                                    \n",
      "24741      239862      5126448.37  8.226889e+07  3.657999e+07      152.504324\n",
      "66037       43018      1395151.85  1.025951e+07  3.255032e+06       75.666740\n",
      "38378       73667      3429455.40  1.290655e+07  3.271830e+06       44.413780\n",
      "46820       75768      1601448.84  9.743794e+06  2.736603e+06       36.118186\n",
      "33615       64313      1828984.89  8.377309e+06  2.201995e+06       34.238718\n",
      "The top spender has this job: Pension scheme manager\n",
      "           job\n",
      "client_id     \n",
      "24741      207\n",
      "49404      142\n"
     ]
    }
   ],
   "source": [
    "per_quant_df = df[df['client_id'].isin(top_five)].groupby('client_id').agg({\n",
    "    'qty':'sum',\n",
    "    'shipping_price':'sum',\n",
    "    'total_price':'sum',\n",
    "    'profit':'sum'\n",
    "})\n",
    "per_quant_df['profit_per_qty'] = per_quant_df['profit'] / per_quant_df['qty']\n",
    "print(per_quant_df.sort_values('profit_per_qty', ascending=False))\n",
    "print(f\"The top spender has this job: {df.loc[df['client_id'] == 24741, 'job'].iloc[0]}\")\n",
    "job_check_df = df.loc[df['job'] == \"Pension scheme manager\",:][['client_id', 'job']].groupby('client_id').count()\n",
    "print(job_check_df)\n",
    "# The data shows that the biggest profit earner is client 24741 who is Kendra Garret. This client beats out the other top five spenders by about a 10x difference. \n",
    "# This is the case even when the quantity of goods is taken into account which suggests that said client 24741 both buys high volume of items and expensive items. \n",
    "# Client 24741 could be an anomalous client, especially given that said client's job is as a 'Pension scheme manager' which is a job shared by only one other client, \n",
    "# however consideration of how this client became such a prolific spender could improve sales across the board assuming the spending is not tied solely to the client's salary. \n"
   ]
  }
 ],
 "metadata": {
  "kernelspec": {
   "display_name": "dev",
   "language": "python",
   "name": "python3"
  },
  "language_info": {
   "codemirror_mode": {
    "name": "ipython",
    "version": 3
   },
   "file_extension": ".py",
   "mimetype": "text/x-python",
   "name": "python",
   "nbconvert_exporter": "python",
   "pygments_lexer": "ipython3",
   "version": "3.10.14"
  }
 },
 "nbformat": 4,
 "nbformat_minor": 5
}
